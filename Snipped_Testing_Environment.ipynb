{
 "cells": [
  {
   "cell_type": "code",
   "execution_count": 4,
   "metadata": {},
   "outputs": [
    {
     "name": "stdout",
     "output_type": "stream",
     "text": [
      "pygame 2.6.0 (SDL 2.28.4, Python 3.12.4)\n",
      "Hello from the pygame community. https://www.pygame.org/contribute.html\n"
     ]
    }
   ],
   "source": [
    "import pygame\n",
    "import numpy as np"
   ]
  },
  {
   "cell_type": "code",
   "execution_count": 2,
   "metadata": {},
   "outputs": [],
   "source": [
    "# Constants\n",
    "SCREEN_WIDTH = 800\n",
    "SCREEN_HEIGHT = 600\n",
    "GRID_SIZE = 20\n",
    "BACKGROUND_COLOR = (255, 255, 255)  # White\n",
    "ANT_COLOR = (0, 0, 0)  # Black\n",
    "FOOD_COLOR = (255, 0, 0)  # Red\n",
    "PHEROMONE_COLOR = (0, 0, 255)  # Blue"
   ]
  },
  {
   "cell_type": "code",
   "execution_count": 5,
   "metadata": {},
   "outputs": [],
   "source": [
    "# Initialize pheromone grid\n",
    "pheromone_grid = np.zeros((SCREEN_WIDTH // GRID_SIZE, SCREEN_HEIGHT // GRID_SIZE))\n",
    "\n",
    "def draw_pheromones():\n",
    "    for x in range(pheromone_grid.shape[0]):\n",
    "        for y in range(pheromone_grid.shape[1]):\n",
    "            intensity = pheromone_grid[x, y]\n",
    "            if intensity > 0:\n",
    "                color = (0, 0, int(255 * intensity))\n",
    "                pygame.draw.rect(screen, color, pygame.Rect(x * GRID_SIZE, y * GRID_SIZE, GRID_SIZE, GRID_SIZE))"
   ]
  },
  {
   "cell_type": "code",
   "execution_count": 10,
   "metadata": {},
   "outputs": [
    {
     "data": {
      "text/plain": [
       "0.0"
      ]
     },
     "execution_count": 10,
     "metadata": {},
     "output_type": "execute_result"
    }
   ],
   "source": [
    "pheromone_grid[1, 4]"
   ]
  },
  {
   "cell_type": "code",
   "execution_count": 15,
   "metadata": {},
   "outputs": [
    {
     "data": {
      "text/plain": [
       "array([[0.44513923, 0.490574  , 0.12301964, ..., 0.74944638, 0.16259969,\n",
       "        0.23465957],\n",
       "       [0.2668493 , 0.59507679, 0.99462479, ..., 0.40556546, 0.25524488,\n",
       "        0.4020919 ],\n",
       "       [0.80763761, 0.88651159, 0.60608102, ..., 0.94046564, 0.12884848,\n",
       "        0.57783255],\n",
       "       ...,\n",
       "       [0.6867416 , 0.28204415, 0.09107687, ..., 0.42782439, 0.18364708,\n",
       "        0.69395455],\n",
       "       [0.74522167, 0.73119769, 0.03763697, ..., 0.68931706, 0.3566638 ,\n",
       "        0.71952433],\n",
       "       [0.56602701, 0.9847255 , 0.68446292, ..., 0.46469545, 0.74599698,\n",
       "        0.67091019]])"
      ]
     },
     "execution_count": 15,
     "metadata": {},
     "output_type": "execute_result"
    }
   ],
   "source": [
    "np.random.rand(SCREEN_WIDTH // GRID_SIZE, SCREEN_HEIGHT // GRID_SIZE)"
   ]
  },
  {
   "cell_type": "code",
   "execution_count": 17,
   "metadata": {},
   "outputs": [
    {
     "ename": "TypeError",
     "evalue": "Cannot interpret '30' as a data type",
     "output_type": "error",
     "traceback": [
      "\u001b[1;31m---------------------------------------------------------------------------\u001b[0m",
      "\u001b[1;31mTypeError\u001b[0m                                 Traceback (most recent call last)",
      "Cell \u001b[1;32mIn[17], line 1\u001b[0m\n\u001b[1;32m----> 1\u001b[0m np\u001b[38;5;241m.\u001b[39mzeros(SCREEN_WIDTH \u001b[38;5;241m/\u001b[39m\u001b[38;5;241m/\u001b[39m GRID_SIZE, SCREEN_HEIGHT \u001b[38;5;241m/\u001b[39m\u001b[38;5;241m/\u001b[39m GRID_SIZE)\n",
      "\u001b[1;31mTypeError\u001b[0m: Cannot interpret '30' as a data type"
     ]
    }
   ],
   "source": [
    "np.zeros(SCREEN_WIDTH // GRID_SIZE, SCREEN_HEIGHT // GRID_SIZE)"
   ]
  },
  {
   "cell_type": "code",
   "execution_count": null,
   "metadata": {},
   "outputs": [],
   "source": []
  }
 ],
 "metadata": {
  "kernelspec": {
   "display_name": "Python 3",
   "language": "python",
   "name": "python3"
  },
  "language_info": {
   "codemirror_mode": {
    "name": "ipython",
    "version": 3
   },
   "file_extension": ".py",
   "mimetype": "text/x-python",
   "name": "python",
   "nbconvert_exporter": "python",
   "pygments_lexer": "ipython3",
   "version": "3.12.4"
  }
 },
 "nbformat": 4,
 "nbformat_minor": 2
}
